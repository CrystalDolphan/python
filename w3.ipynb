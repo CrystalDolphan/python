{
 "cells": [
  {
   "cell_type": "code",
   "execution_count": null,
   "id": "75b7bef4",
   "metadata": {},
   "outputs": [],
   "source": [
    "welcome_name = input(f'Welcome to the sandwich shop, what do I call you?')"
   ]
  },
  {
   "cell_type": "code",
   "execution_count": null,
   "id": "e0616640",
   "metadata": {},
   "outputs": [],
   "source": [
    "print (f'Hello {welcome_name}.')"
   ]
  },
  {
   "cell_type": "code",
   "execution_count": null,
   "id": "91df30b4",
   "metadata": {},
   "outputs": [],
   "source": [
    "question_sandwich = input (f'Are you here for a sandwich?')"
   ]
  },
  {
   "cell_type": "code",
   "execution_count": null,
   "id": "95b16095",
   "metadata": {},
   "outputs": [],
   "source": [
    "if question_sandwich == True:\n",
    "    food_prompt = input(f'What kind of sandwich would you like?')\n",
    "    print (f'Please wait 10 minutes for your {food_prompt}.')\n",
    "else:\n",
    "    print (\"If you don't want a sandwich what are you here for?!\")"
   ]
  },
  {
   "cell_type": "code",
   "execution_count": null,
   "id": "8e8599ba",
   "metadata": {},
   "outputs": [],
   "source": []
  },
  {
   "cell_type": "code",
   "execution_count": null,
   "id": "035ff13a",
   "metadata": {},
   "outputs": [],
   "source": [
    "name = input(f'Welcome to the Boba Shop! What is your name?')"
   ]
  },
  {
   "cell_type": "code",
   "execution_count": null,
   "id": "dda2b54b",
   "metadata": {},
   "outputs": [],
   "source": [
    "if name != '' or None:\n",
    "    print (f'Hello {name}.')\n",
    "    beverage = input(f'What kind of boba drink would you like?')\n",
    "    sweetness_level = input (f'How sweet do you want your drink: 0, 50, 100, or 200?')\n",
    "    if sweetness_level == 50:\n",
    "        sweetness = 'half sweetened'\n",
    "    elif sweetness_level == 100:\n",
    "        sweetness = 'normal sweet'\n",
    "    elif sweetness_level == 200:\n",
    "        sweetness = 'super sweet'\n",
    "    else:\n",
    "        sweetness = 'non-sweet'\n",
    "    print(f'Your order of {beverage} boba with a sweet level of {sweetness}.')\n",
    "else:\n",
    "    print(\"You didn't give us your name! Goodbye.\")"
   ]
  }
 ],
 "metadata": {
  "kernelspec": {
   "display_name": "Python 3 (ipykernel)",
   "language": "python",
   "name": "python3"
  },
  "language_info": {
   "codemirror_mode": {
    "name": "ipython",
    "version": 3
   },
   "file_extension": ".py",
   "mimetype": "text/x-python",
   "name": "python",
   "nbconvert_exporter": "python",
   "pygments_lexer": "ipython3",
   "version": "3.9.7"
  }
 },
 "nbformat": 4,
 "nbformat_minor": 5
}
